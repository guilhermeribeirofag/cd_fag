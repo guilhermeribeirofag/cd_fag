{
 "cells": [
  {
   "metadata": {},
   "cell_type": "markdown",
   "source": "",
   "id": "3434fb2a12e26397"
  },
  {
   "metadata": {
    "ExecuteTime": {
     "end_time": "2025-08-04T23:00:12.312510Z",
     "start_time": "2025-08-04T23:00:12.301217Z"
    }
   },
   "cell_type": "code",
   "source": [
    "x = 10\n",
    "pi = 3.1415\n",
    "nome = \"Ana\"\n",
    "ativo = True\n",
    "print(type(x), type(pi), type(nome), type(ativo))"
   ],
   "id": "e31e27dc782040d1",
   "outputs": [
    {
     "name": "stdout",
     "output_type": "stream",
     "text": [
      "<class 'int'> <class 'float'> <class 'str'> <class 'bool'>\n"
     ]
    }
   ],
   "execution_count": 6
  },
  {
   "metadata": {
    "ExecuteTime": {
     "end_time": "2025-08-04T23:03:16.959987Z",
     "start_time": "2025-08-04T23:03:16.954985Z"
    }
   },
   "cell_type": "code",
   "source": [
    "nums = [3, 1, 4]\n",
    "nums.append(1)\n",
    "nums_sorted = sorted(nums)\n",
    "t = (10, 20)   # tupla (imutavel)\n",
    "\n",
    "print(nums)\n",
    "print(nums_sorted)\n",
    "print(t)"
   ],
   "id": "5ca218a854dc512d",
   "outputs": [
    {
     "name": "stdout",
     "output_type": "stream",
     "text": [
      "[3, 1, 4, 1]\n",
      "[1, 1, 3, 4]\n",
      "(10, 20)\n"
     ]
    }
   ],
   "execution_count": 9
  },
  {
   "metadata": {
    "ExecuteTime": {
     "end_time": "2025-08-04T23:06:28.589403Z",
     "start_time": "2025-08-04T23:06:28.583390Z"
    }
   },
   "cell_type": "code",
   "source": [
    "pessoa = {\"nome\": \"Ana\", \"idade\": 22}\n",
    "print(pessoa)\n",
    "\n",
    "pessoa[\"curso\"] = \"DS\"\n",
    "print(pessoa)\n",
    "\n",
    "chaves = list(pessoa.keys())\n",
    "print(chaves)"
   ],
   "id": "bfb0dfbeadad14c5",
   "outputs": [
    {
     "name": "stdout",
     "output_type": "stream",
     "text": [
      "{'nome': 'Ana', 'idade': 22}\n",
      "{'nome': 'Ana', 'idade': 22, 'curso': 'DS'}\n",
      "['nome', 'idade', 'curso']\n"
     ]
    }
   ],
   "execution_count": 11
  },
  {
   "metadata": {
    "ExecuteTime": {
     "end_time": "2025-08-04T23:09:16.213662Z",
     "start_time": "2025-08-04T23:09:16.195114Z"
    }
   },
   "cell_type": "code",
   "source": [
    "for i in range(3):\n",
    "    if i % 2 == 0:\n",
    "        print(i, \"par\")\n",
    "    else:\n",
    "        print(i, \"impar\")"
   ],
   "id": "a5ece4dd64f34e7",
   "outputs": [
    {
     "name": "stdout",
     "output_type": "stream",
     "text": [
      "0 par\n",
      "1 impar\n",
      "2 par\n"
     ]
    }
   ],
   "execution_count": 12
  },
  {
   "metadata": {
    "ExecuteTime": {
     "end_time": "2025-08-04T23:15:45.490763Z",
     "start_time": "2025-08-04T23:15:45.482171Z"
    }
   },
   "cell_type": "code",
   "source": [
    "quadrados = [x*x for x in range(5)]\n",
    "quadrados"
   ],
   "id": "90ee70f12eeeede3",
   "outputs": [
    {
     "data": {
      "text/plain": [
       "[0, 1, 4, 9, 16]"
      ]
     },
     "execution_count": 13,
     "metadata": {},
     "output_type": "execute_result"
    }
   ],
   "execution_count": 13
  },
  {
   "metadata": {
    "ExecuteTime": {
     "end_time": "2025-08-04T23:16:07.690749Z",
     "start_time": "2025-08-04T23:16:07.672121Z"
    }
   },
   "cell_type": "code",
   "source": [
    "pares = [x for x in range(10) if x % 2 == 0]\n",
    "pares"
   ],
   "id": "e58e68573ac702f2",
   "outputs": [
    {
     "data": {
      "text/plain": [
       "[0, 2, 4, 6, 8]"
      ]
     },
     "execution_count": 14,
     "metadata": {},
     "output_type": "execute_result"
    }
   ],
   "execution_count": 14
  },
  {
   "metadata": {
    "jupyter": {
     "is_executing": true
    }
   },
   "cell_type": "code",
   "source": [
    "# em outro arquivo\n",
    "from aula_03.utils import soma\n",
    "print(soma(2,3))"
   ],
   "id": "165087f4c1475450",
   "outputs": [],
   "execution_count": null
  },
  {
   "metadata": {},
   "cell_type": "markdown",
   "source": "## Aula 04 - 07/082025",
   "id": "cff6b28cc214b7a0"
  },
  {
   "metadata": {
    "ExecuteTime": {
     "end_time": "2025-08-08T00:32:57.531968Z",
     "start_time": "2025-08-08T00:32:56.538075Z"
    }
   },
   "cell_type": "code",
   "source": [
    "import pandas as pd\n",
    "\n",
    "df = pd.DataFrame({\"a\":[1,2,3], \"b\":[10,20,30]})\n",
    "df[\"c\"] = df[\"a\"] + df[\"b\"]\n",
    "\n",
    "print(df.head())\n",
    "print(df.describe())"
   ],
   "id": "4414137f4cbb8336",
   "outputs": [
    {
     "name": "stderr",
     "output_type": "stream",
     "text": [
      "D:\\Anaconda3\\lib\\site-packages\\numpy\\_distributor_init.py:30: UserWarning: loaded more than 1 DLL from .libs:\n",
      "D:\\Anaconda3\\lib\\site-packages\\numpy\\.libs\\libopenblas.4SP5SUA7CBGXUEOC35YP2ASOICYYEQZZ.gfortran-win_amd64.dll\n",
      "D:\\Anaconda3\\lib\\site-packages\\numpy\\.libs\\libopenblas.NOIJJG62EMASZI6NYURL6JBKM4EVBGM7.gfortran-win_amd64.dll\n",
      "D:\\Anaconda3\\lib\\site-packages\\numpy\\.libs\\libopenblas64__v0.3.21-gcc_10_3_0.dll\n",
      "  warnings.warn(\"loaded more than 1 DLL from .libs:\"\n"
     ]
    },
    {
     "name": "stdout",
     "output_type": "stream",
     "text": [
      "   a   b   c\n",
      "0  1  10  11\n",
      "1  2  20  22\n",
      "2  3  30  33\n",
      "         a     b     c\n",
      "count  3.0   3.0   3.0\n",
      "mean   2.0  20.0  22.0\n",
      "std    1.0  10.0  11.0\n",
      "min    1.0  10.0  11.0\n",
      "25%    1.5  15.0  16.5\n",
      "50%    2.0  20.0  22.0\n",
      "75%    2.5  25.0  27.5\n",
      "max    3.0  30.0  33.0\n"
     ]
    }
   ],
   "execution_count": 1
  },
  {
   "metadata": {
    "ExecuteTime": {
     "end_time": "2025-08-08T00:35:13.358746Z",
     "start_time": "2025-08-08T00:35:11.886139Z"
    }
   },
   "cell_type": "code",
   "source": [
    "import matplotlib.pyplot as plt\n",
    "df.plot(kind=\"bar\")\n",
    "plt.show()  # em script, chame explicitamente"
   ],
   "id": "f288f0f38ccbe3a9",
   "outputs": [
    {
     "data": {
      "text/plain": [
       "<Figure size 640x480 with 1 Axes>"
      ],
      "image/png": "[encoded data removed]"
     },
     "metadata": {},
     "output_type": "display_data"
    }
   ],
   "execution_count": 2
  },
  {
   "metadata": {
    "ExecuteTime": {
     "end_time": "2025-08-08T00:47:26.324940Z",
     "start_time": "2025-08-08T00:47:26.304471Z"
    }
   },
   "cell_type": "code",
   "source": [
    "df_montgomery = pd.read_csv(r'D:\\Mega\\FAG\\fag_projects\\montgomery_metadata.csv')\n",
    "df_montgomery.head()"
   ],
   "id": "34aae52e2fbc0237",
   "outputs": [
    {
     "data": {
      "text/plain": [
       "            study_id  age  gender findings\n",
       "0  MCUCXR_0001_0.png   27  Female   normal\n",
       "1  MCUCXR_0002_0.png   40  Female   normal\n",
       "2  MCUCXR_0003_0.png   21  Female   normal\n",
       "3  MCUCXR_0004_0.png   11  Female   normal\n",
       "4  MCUCXR_0005_0.png   33    Male   normal"
      ],
      "text/html": [
       "<div>\n",
       "<style scoped>\n",
       "    .dataframe tbody tr th:only-of-type {\n",
       "        vertical-align: middle;\n",
       "    }\n",
       "\n",
       "    .dataframe tbody tr th {\n",
       "        vertical-align: top;\n",
       "    }\n",
       "\n",
       "    .dataframe thead th {\n",
       "        text-align: right;\n",
       "    }\n",
       "</style>\n",
       "<table border=\"1\" class=\"dataframe\">\n",
       "  <thead>\n",
       "    <tr style=\"text-align: right;\">\n",
       "      <th></th>\n",
       "      <th>study_id</th>\n",
       "      <th>age</th>\n",
       "      <th>gender</th>\n",
       "      <th>findings</th>\n",
       "    </tr>\n",
       "  </thead>\n",
       "  <tbody>\n",
       "    <tr>\n",
       "      <th>0</th>\n",
       "      <td>MCUCXR_0001_0.png</td>\n",
       "      <td>27</td>\n",
       "      <td>Female</td>\n",
       "      <td>normal</td>\n",
       "    </tr>\n",
       "    <tr>\n",
       "      <th>1</th>\n",
       "      <td>MCUCXR_0002_0.png</td>\n",
       "      <td>40</td>\n",
       "      <td>Female</td>\n",
       "      <td>normal</td>\n",
       "    </tr>\n",
       "    <tr>\n",
       "      <th>2</th>\n",
       "      <td>MCUCXR_0003_0.png</td>\n",
       "      <td>21</td>\n",
       "      <td>Female</td>\n",
       "      <td>normal</td>\n",
       "    </tr>\n",
       "    <tr>\n",
       "      <th>3</th>\n",
       "      <td>MCUCXR_0004_0.png</td>\n",
       "      <td>11</td>\n",
       "      <td>Female</td>\n",
       "      <td>normal</td>\n",
       "    </tr>\n",
       "    <tr>\n",
       "      <th>4</th>\n",
       "      <td>MCUCXR_0005_0.png</td>\n",
       "      <td>33</td>\n",
       "      <td>Male</td>\n",
       "      <td>normal</td>\n",
       "    </tr>\n",
       "  </tbody>\n",
       "</table>\n",
       "</div>"
      ]
     },
     "execution_count": 3,
     "metadata": {},
     "output_type": "execute_result"
    }
   ],
   "execution_count": 3
  },
  {
   "metadata": {
    "ExecuteTime": {
     "end_time": "2025-08-08T00:47:54.537772Z",
     "start_time": "2025-08-08T00:47:54.517668Z"
    }
   },
   "cell_type": "code",
   "source": "df_montgomery.describe()",
   "id": "e40542d3bd5fdb42",
   "outputs": [
    {
     "data": {
      "text/plain": [
       "              age\n",
       "count  138.000000\n",
       "mean    40.108696\n",
       "std     18.789531\n",
       "min      4.000000\n",
       "25%     28.000000\n",
       "50%     40.000000\n",
       "75%     51.750000\n",
       "max     89.000000"
      ],
      "text/html": [
       "<div>\n",
       "<style scoped>\n",
       "    .dataframe tbody tr th:only-of-type {\n",
       "        vertical-align: middle;\n",
       "    }\n",
       "\n",
       "    .dataframe tbody tr th {\n",
       "        vertical-align: top;\n",
       "    }\n",
       "\n",
       "    .dataframe thead th {\n",
       "        text-align: right;\n",
       "    }\n",
       "</style>\n",
       "<table border=\"1\" class=\"dataframe\">\n",
       "  <thead>\n",
       "    <tr style=\"text-align: right;\">\n",
       "      <th></th>\n",
       "      <th>age</th>\n",
       "    </tr>\n",
       "  </thead>\n",
       "  <tbody>\n",
       "    <tr>\n",
       "      <th>count</th>\n",
       "      <td>138.000000</td>\n",
       "    </tr>\n",
       "    <tr>\n",
       "      <th>mean</th>\n",
       "      <td>40.108696</td>\n",
       "    </tr>\n",
       "    <tr>\n",
       "      <th>std</th>\n",
       "      <td>18.789531</td>\n",
       "    </tr>\n",
       "    <tr>\n",
       "      <th>min</th>\n",
       "      <td>4.000000</td>\n",
       "    </tr>\n",
       "    <tr>\n",
       "      <th>25%</th>\n",
       "      <td>28.000000</td>\n",
       "    </tr>\n",
       "    <tr>\n",
       "      <th>50%</th>\n",
       "      <td>40.000000</td>\n",
       "    </tr>\n",
       "    <tr>\n",
       "      <th>75%</th>\n",
       "      <td>51.750000</td>\n",
       "    </tr>\n",
       "    <tr>\n",
       "      <th>max</th>\n",
       "      <td>89.000000</td>\n",
       "    </tr>\n",
       "  </tbody>\n",
       "</table>\n",
       "</div>"
      ]
     },
     "execution_count": 4,
     "metadata": {},
     "output_type": "execute_result"
    }
   ],
   "execution_count": 4
  },
  {
   "metadata": {
    "ExecuteTime": {
     "end_time": "2025-08-08T00:49:28.639495Z",
     "start_time": "2025-08-08T00:49:28.630442Z"
    }
   },
   "cell_type": "code",
   "source": "df_montgomery.groupby(['gender'])['study_id'].count()",
   "id": "649da56326c06709",
   "outputs": [
    {
     "data": {
      "text/plain": [
       "gender\n",
       "Female    74\n",
       "Male      63\n",
       "O          1\n",
       "Name: study_id, dtype: int64"
      ]
     },
     "execution_count": 6,
     "metadata": {},
     "output_type": "execute_result"
    }
   ],
   "execution_count": 6
  },
  {
   "metadata": {
    "ExecuteTime": {
     "end_time": "2025-08-08T00:51:16.465307Z",
     "start_time": "2025-08-08T00:51:16.450750Z"
    }
   },
   "cell_type": "code",
   "source": "df_montgomery[df_montgomery['findings'] == 'normal']['age'].count()",
   "id": "c9e25c61fe446fd",
   "outputs": [
    {
     "data": {
      "text/plain": [
       "80"
      ]
     },
     "execution_count": 8,
     "metadata": {},
     "output_type": "execute_result"
    }
   ],
   "execution_count": 8
  },
  {
   "metadata": {
    "ExecuteTime": {
     "end_time": "2025-08-08T00:51:39.763130Z",
     "start_time": "2025-08-08T00:51:39.755574Z"
    }
   },
   "cell_type": "code",
   "source": "df_montgomery.shape",
   "id": "7474ee4170ae7119",
   "outputs": [
    {
     "data": {
      "text/plain": [
       "(138, 4)"
      ]
     },
     "execution_count": 9,
     "metadata": {},
     "output_type": "execute_result"
    }
   ],
   "execution_count": 9
  },
  {
   "metadata": {
    "ExecuteTime": {
     "end_time": "2025-08-08T00:52:20.115779Z",
     "start_time": "2025-08-08T00:52:20.105045Z"
    }
   },
   "cell_type": "code",
   "source": "80/138",
   "id": "355cf7fc6e71b333",
   "outputs": [
    {
     "data": {
      "text/plain": [
       "0.5797101449275363"
      ]
     },
     "execution_count": 10,
     "metadata": {},
     "output_type": "execute_result"
    }
   ],
   "execution_count": 10
  },
  {
   "metadata": {
    "ExecuteTime": {
     "end_time": "2025-08-08T00:52:36.190842Z",
     "start_time": "2025-08-08T00:52:36.183825Z"
    }
   },
   "cell_type": "code",
   "source": "1 - (80/138)",
   "id": "ddeb1f2bb5433adb",
   "outputs": [
    {
     "data": {
      "text/plain": [
       "0.42028985507246375"
      ]
     },
     "execution_count": 11,
     "metadata": {},
     "output_type": "execute_result"
    }
   ],
   "execution_count": 11
  },
  {
   "metadata": {
    "ExecuteTime": {
     "end_time": "2025-08-08T00:53:25.238279Z",
     "start_time": "2025-08-08T00:53:25.205423Z"
    }
   },
   "cell_type": "code",
   "source": "df_montgomery[df_montgomery['findings'] != 'normal'].head(58)",
   "id": "8ead7cc17db6accb",
   "outputs": [
    {
     "data": {
      "text/plain": [
       "              study_id  age  gender  \\\n",
       "80   MCUCXR_0104_1.png   59    Male   \n",
       "81   MCUCXR_0108_1.png   40    Male   \n",
       "82   MCUCXR_0113_1.png   84  Female   \n",
       "83   MCUCXR_0117_1.png   85  Female   \n",
       "84   MCUCXR_0126_1.png   46    Male   \n",
       "85   MCUCXR_0140_1.png   34    Male   \n",
       "86   MCUCXR_0141_1.png   27    Male   \n",
       "87   MCUCXR_0142_1.png   43  Female   \n",
       "88   MCUCXR_0144_1.png   67    Male   \n",
       "89   MCUCXR_0150_1.png   32    Male   \n",
       "90   MCUCXR_0162_1.png   49    Male   \n",
       "91   MCUCXR_0166_1.png   49    Male   \n",
       "92   MCUCXR_0170_1.png   49    Male   \n",
       "93   MCUCXR_0173_1.png   54    Male   \n",
       "94   MCUCXR_0182_1.png   30    Male   \n",
       "95   MCUCXR_0188_1.png   61    Male   \n",
       "96   MCUCXR_0194_1.png   73    Male   \n",
       "97   MCUCXR_0195_1.png   44  Female   \n",
       "98   MCUCXR_0196_1.png   26  Female   \n",
       "99   MCUCXR_0203_1.png   68    Male   \n",
       "100  MCUCXR_0213_1.png   89  Female   \n",
       "101  MCUCXR_0218_1.png   46  Female   \n",
       "102  MCUCXR_0223_1.png   67    Male   \n",
       "103  MCUCXR_0228_1.png   32    Male   \n",
       "104  MCUCXR_0243_1.png   54    Male   \n",
       "105  MCUCXR_0251_1.png   77  Female   \n",
       "106  MCUCXR_0253_1.png   31    Male   \n",
       "107  MCUCXR_0254_1.png   33    Male   \n",
       "108  MCUCXR_0255_1.png   33    Male   \n",
       "109  MCUCXR_0258_1.png   88  Female   \n",
       "110  MCUCXR_0264_1.png   15    Male   \n",
       "111  MCUCXR_0266_1.png   47    Male   \n",
       "112  MCUCXR_0275_1.png   34    Male   \n",
       "113  MCUCXR_0282_1.png   51    Male   \n",
       "114  MCUCXR_0289_1.png   52    Male   \n",
       "115  MCUCXR_0294_1.png   63  Female   \n",
       "116  MCUCXR_0301_1.png   47    Male   \n",
       "117  MCUCXR_0309_1.png   89  Female   \n",
       "118  MCUCXR_0311_1.png   89  Female   \n",
       "119  MCUCXR_0313_1.png   15    Male   \n",
       "120  MCUCXR_0316_1.png   16    Male   \n",
       "121  MCUCXR_0331_1.png   47    Male   \n",
       "122  MCUCXR_0334_1.png   24    Male   \n",
       "123  MCUCXR_0338_1.png   35    Male   \n",
       "124  MCUCXR_0348_1.png   69  Female   \n",
       "125  MCUCXR_0350_1.png   36    Male   \n",
       "126  MCUCXR_0352_1.png   25  Female   \n",
       "127  MCUCXR_0354_1.png   46    Male   \n",
       "128  MCUCXR_0362_1.png   61    Male   \n",
       "129  MCUCXR_0367_1.png   31  Female   \n",
       "130  MCUCXR_0369_1.png   31  Female   \n",
       "131  MCUCXR_0372_1.png   49  Female   \n",
       "132  MCUCXR_0375_1.png   49  Female   \n",
       "133  MCUCXR_0383_1.png   14  Female   \n",
       "134  MCUCXR_0387_1.png   42    Male   \n",
       "135  MCUCXR_0390_1.png   52    Male   \n",
       "136  MCUCXR_0393_1.png   30  Female   \n",
       "137  MCUCXR_0399_1.png   63  Female   \n",
       "\n",
       "                                              findings  \n",
       "80   inactive TB scars LUL, unchanged for 2Y, pt pr...  \n",
       "81   extensive cavitary TB smear and culture positi...  \n",
       "82   bilateral miliary nodules diffusely with RML i...  \n",
       "83   stable CXR since 6M; off Rx since 6M (same pt ...  \n",
       "84   large right pleural effusion, positive TST, TB...  \n",
       "85   small LUL calcified granuloma; pt on rx for cu...  \n",
       "86   LUL infiltrate, ? small areas of cavitation, I...  \n",
       "87   cavitary infiltrate near left hilum consistent...  \n",
       "88                  smear positive, active TB LUL apex  \n",
       "89   extensive infiltrates bilaterally with large c...  \n",
       "90   RUL apical fibrotic disease with some calcific...  \n",
       "91                NO REPORT (same pt as MCUCXR_0162_1)  \n",
       "92   CXR similar to prior views 1M and 2M ago with ...  \n",
       "93   improved infiltrates in both lungs; a cavity i...  \n",
       "94                            pleural TB, on treatment  \n",
       "95   cavitary disease RUL with possible small locul...  \n",
       "96   h/o TB rx in xxx 44Y ago with IN PAS SM; has r...  \n",
       "97   has inactive appearing scars in LUL; h/o treat...  \n",
       "98   dense scarring in LUL with volume loss, lesser...  \n",
       "99   bilateral changes of cavitary TB in upper lobe...  \n",
       "100        inactive scars RML. has completed treatment  \n",
       "101  inactive and partly calcified scars and granul...  \n",
       "102                        improving infiltrate in LUL  \n",
       "103  positive improvement in cavities, infiltrates,...  \n",
       "104                    improving infiltrate, active TB  \n",
       "105  RUL fibrocavitary disease with volume loss and...  \n",
       "106  worsening diffuse infiltrate bilaterally with ...  \n",
       "107  stable inactive scars in RUL; post treatment f...  \n",
       "108  stable inactive scars in RUL; post treatment f...  \n",
       "109          active PTB with compicating CHF condition  \n",
       "110  active TB; cavitary infiltrarte LUL; non-conso...  \n",
       "111  peripheral homogeneous infiltrate LUL; active ...  \n",
       "112                    inactive scars unchanged for 6M  \n",
       "113                                  inactive TB scars  \n",
       "114            RUL cavitary infiltrate; positive smear  \n",
       "115                              inactive TB scars LUL  \n",
       "116  persistent rt pleural peel with some interval ...  \n",
       "117  improvements after Rx. Has pleural, pulmonary,...  \n",
       "118  on Rx for culture proven TB. has been clearing...  \n",
       "119               improvements. LUL cavity has closed.  \n",
       "120  improved LUL infiltrate and cavity. Active TB ...  \n",
       "121                    inactive appearing RUL TB scars  \n",
       "122                  RUL infiltrate consistent with TB  \n",
       "123  LUL inactive scars and some volume loss. h/o t...  \n",
       "124  scoliosis to the left with some scarring in LL...  \n",
       "125                          suspicious active disease  \n",
       "126  12x9mm nodule LUL, consistent with large granu...  \n",
       "127  bilateral calcified granulomas scars consisten...  \n",
       "128  rt pleural effusion with some nodular infiltra...  \n",
       "129  cavitary fibronodular infiltrate RUL. typical ...  \n",
       "130      cavitary nodular infiltrate in RUL; active TB  \n",
       "131  rt pleural effusion some infoltrate likely in ...  \n",
       "132  improving rt pleural effusion and the RUL infi...  \n",
       "133    calcified granuloma LUL behind 4th rib anterior  \n",
       "134                                 inactive scars RUL  \n",
       "135  Rt apical scarring. LUL scars and some infiltr...  \n",
       "136  left pleural effusion; best seen on lateral vi...  \n",
       "137  large infiltrate RUL with cavitation plus infi...  "
      ],
      "text/html": [
       "<div>\n",
       "<style scoped>\n",
       "    .dataframe tbody tr th:only-of-type {\n",
       "        vertical-align: middle;\n",
       "    }\n",
       "\n",
       "    .dataframe tbody tr th {\n",
       "        vertical-align: top;\n",
       "    }\n",
       "\n",
       "    .dataframe thead th {\n",
       "        text-align: right;\n",
       "    }\n",
       "</style>\n",
       "<table border=\"1\" class=\"dataframe\">\n",
       "  <thead>\n",
       "    <tr style=\"text-align: right;\">\n",
       "      <th></th>\n",
       "      <th>study_id</th>\n",
       "      <th>age</th>\n",
       "      <th>gender</th>\n",
       "      <th>findings</th>\n",
       "    </tr>\n",
       "  </thead>\n",
       "  <tbody>\n",
       "    <tr>\n",
       "      <th>80</th>\n",
       "      <td>MCUCXR_0104_1.png</td>\n",
       "      <td>59</td>\n",
       "      <td>Male</td>\n",
       "      <td>inactive TB scars LUL, unchanged for 2Y, pt pr...</td>\n",
       "    </tr>\n",
       "    <tr>\n",
       "      <th>81</th>\n",
       "      <td>MCUCXR_0108_1.png</td>\n",
       "      <td>40</td>\n",
       "      <td>Male</td>\n",
       "      <td>extensive cavitary TB smear and culture positi...</td>\n",
       "    </tr>\n",
       "    <tr>\n",
       "      <th>82</th>\n",
       "      <td>MCUCXR_0113_1.png</td>\n",
       "      <td>84</td>\n",
       "      <td>Female</td>\n",
       "      <td>bilateral miliary nodules diffusely with RML i...</td>\n",
       "    </tr>\n",
       "    <tr>\n",
       "      <th>83</th>\n",
       "      <td>MCUCXR_0117_1.png</td>\n",
       "      <td>85</td>\n",
       "      <td>Female</td>\n",
       "      <td>stable CXR since 6M; off Rx since 6M (same pt ...</td>\n",
       "    </tr>\n",
       "    <tr>\n",
       "      <th>84</th>\n",
       "      <td>MCUCXR_0126_1.png</td>\n",
       "      <td>46</td>\n",
       "      <td>Male</td>\n",
       "      <td>large right pleural effusion, positive TST, TB...</td>\n",
       "    </tr>\n",
       "    <tr>\n",
       "      <th>85</th>\n",
       "      <td>MCUCXR_0140_1.png</td>\n",
       "      <td>34</td>\n",
       "      <td>Male</td>\n",
       "      <td>small LUL calcified granuloma; pt on rx for cu...</td>\n",
       "    </tr>\n",
       "    <tr>\n",
       "      <th>86</th>\n",
       "      <td>MCUCXR_0141_1.png</td>\n",
       "      <td>27</td>\n",
       "      <td>Male</td>\n",
       "      <td>LUL infiltrate, ? small areas of cavitation, I...</td>\n",
       "    </tr>\n",
       "    <tr>\n",
       "      <th>87</th>\n",
       "      <td>MCUCXR_0142_1.png</td>\n",
       "      <td>43</td>\n",
       "      <td>Female</td>\n",
       "      <td>cavitary infiltrate near left hilum consistent...</td>\n",
       "    </tr>\n",
       "    <tr>\n",
       "      <th>88</th>\n",
       "      <td>MCUCXR_0144_1.png</td>\n",
       "      <td>67</td>\n",
       "      <td>Male</td>\n",
       "      <td>smear positive, active TB LUL apex</td>\n",
       "    </tr>\n",
       "    <tr>\n",
       "      <th>89</th>\n",
       "      <td>MCUCXR_0150_1.png</td>\n",
       "      <td>32</td>\n",
       "      <td>Male</td>\n",
       "      <td>extensive infiltrates bilaterally with large c...</td>\n",
       "    </tr>\n",
       "    <tr>\n",
       "      <th>90</th>\n",
       "      <td>MCUCXR_0162_1.png</td>\n",
       "      <td>49</td>\n",
       "      <td>Male</td>\n",
       "      <td>RUL apical fibrotic disease with some calcific...</td>\n",
       "    </tr>\n",
       "    <tr>\n",
       "      <th>91</th>\n",
       "      <td>MCUCXR_0166_1.png</td>\n",
       "      <td>49</td>\n",
       "      <td>Male</td>\n",
       "      <td>NO REPORT (same pt as MCUCXR_0162_1)</td>\n",
       "    </tr>\n",
       "    <tr>\n",
       "      <th>92</th>\n",
       "      <td>MCUCXR_0170_1.png</td>\n",
       "      <td>49</td>\n",
       "      <td>Male</td>\n",
       "      <td>CXR similar to prior views 1M and 2M ago with ...</td>\n",
       "    </tr>\n",
       "    <tr>\n",
       "      <th>93</th>\n",
       "      <td>MCUCXR_0173_1.png</td>\n",
       "      <td>54</td>\n",
       "      <td>Male</td>\n",
       "      <td>improved infiltrates in both lungs; a cavity i...</td>\n",
       "    </tr>\n",
       "    <tr>\n",
       "      <th>94</th>\n",
       "      <td>MCUCXR_0182_1.png</td>\n",
       "      <td>30</td>\n",
       "      <td>Male</td>\n",
       "      <td>pleural TB, on treatment</td>\n",
       "    </tr>\n",
       "    <tr>\n",
       "      <th>95</th>\n",
       "      <td>MCUCXR_0188_1.png</td>\n",
       "      <td>61</td>\n",
       "      <td>Male</td>\n",
       "      <td>cavitary disease RUL with possible small locul...</td>\n",
       "    </tr>\n",
       "    <tr>\n",
       "      <th>96</th>\n",
       "      <td>MCUCXR_0194_1.png</td>\n",
       "      <td>73</td>\n",
       "      <td>Male</td>\n",
       "      <td>h/o TB rx in xxx 44Y ago with IN PAS SM; has r...</td>\n",
       "    </tr>\n",
       "    <tr>\n",
       "      <th>97</th>\n",
       "      <td>MCUCXR_0195_1.png</td>\n",
       "      <td>44</td>\n",
       "      <td>Female</td>\n",
       "      <td>has inactive appearing scars in LUL; h/o treat...</td>\n",
       "    </tr>\n",
       "    <tr>\n",
       "      <th>98</th>\n",
       "      <td>MCUCXR_0196_1.png</td>\n",
       "      <td>26</td>\n",
       "      <td>Female</td>\n",
       "      <td>dense scarring in LUL with volume loss, lesser...</td>\n",
       "    </tr>\n",
       "    <tr>\n",
       "      <th>99</th>\n",
       "      <td>MCUCXR_0203_1.png</td>\n",
       "      <td>68</td>\n",
       "      <td>Male</td>\n",
       "      <td>bilateral changes of cavitary TB in upper lobe...</td>\n",
       "    </tr>\n",
       "    <tr>\n",
       "      <th>100</th>\n",
       "      <td>MCUCXR_0213_1.png</td>\n",
       "      <td>89</td>\n",
       "      <td>Female</td>\n",
       "      <td>inactive scars RML. has completed treatment</td>\n",
       "    </tr>\n",
       "    <tr>\n",
       "      <th>101</th>\n",
       "      <td>MCUCXR_0218_1.png</td>\n",
       "      <td>46</td>\n",
       "      <td>Female</td>\n",
       "      <td>inactive and partly calcified scars and granul...</td>\n",
       "    </tr>\n",
       "    <tr>\n",
       "      <th>102</th>\n",
       "      <td>MCUCXR_0223_1.png</td>\n",
       "      <td>67</td>\n",
       "      <td>Male</td>\n",
       "      <td>improving infiltrate in LUL</td>\n",
       "    </tr>\n",
       "    <tr>\n",
       "      <th>103</th>\n",
       "      <td>MCUCXR_0228_1.png</td>\n",
       "      <td>32</td>\n",
       "      <td>Male</td>\n",
       "      <td>positive improvement in cavities, infiltrates,...</td>\n",
       "    </tr>\n",
       "    <tr>\n",
       "      <th>104</th>\n",
       "      <td>MCUCXR_0243_1.png</td>\n",
       "      <td>54</td>\n",
       "      <td>Male</td>\n",
       "      <td>improving infiltrate, active TB</td>\n",
       "    </tr>\n",
       "    <tr>\n",
       "      <th>105</th>\n",
       "      <td>MCUCXR_0251_1.png</td>\n",
       "      <td>77</td>\n",
       "      <td>Female</td>\n",
       "      <td>RUL fibrocavitary disease with volume loss and...</td>\n",
       "    </tr>\n",
       "    <tr>\n",
       "      <th>106</th>\n",
       "      <td>MCUCXR_0253_1.png</td>\n",
       "      <td>31</td>\n",
       "      <td>Male</td>\n",
       "      <td>worsening diffuse infiltrate bilaterally with ...</td>\n",
       "    </tr>\n",
       "    <tr>\n",
       "      <th>107</th>\n",
       "      <td>MCUCXR_0254_1.png</td>\n",
       "      <td>33</td>\n",
       "      <td>Male</td>\n",
       "      <td>stable inactive scars in RUL; post treatment f...</td>\n",
       "    </tr>\n",
       "    <tr>\n",
       "      <th>108</th>\n",
       "      <td>MCUCXR_0255_1.png</td>\n",
       "      <td>33</td>\n",
       "      <td>Male</td>\n",
       "      <td>stable inactive scars in RUL; post treatment f...</td>\n",
       "    </tr>\n",
       "    <tr>\n",
       "      <th>109</th>\n",
       "      <td>MCUCXR_0258_1.png</td>\n",
       "      <td>88</td>\n",
       "      <td>Female</td>\n",
       "      <td>active PTB with compicating CHF condition</td>\n",
       "    </tr>\n",
       "    <tr>\n",
       "      <th>110</th>\n",
       "      <td>MCUCXR_0264_1.png</td>\n",
       "      <td>15</td>\n",
       "      <td>Male</td>\n",
       "      <td>active TB; cavitary infiltrarte LUL; non-conso...</td>\n",
       "    </tr>\n",
       "    <tr>\n",
       "      <th>111</th>\n",
       "      <td>MCUCXR_0266_1.png</td>\n",
       "      <td>47</td>\n",
       "      <td>Male</td>\n",
       "      <td>peripheral homogeneous infiltrate LUL; active ...</td>\n",
       "    </tr>\n",
       "    <tr>\n",
       "      <th>112</th>\n",
       "      <td>MCUCXR_0275_1.png</td>\n",
       "      <td>34</td>\n",
       "      <td>Male</td>\n",
       "      <td>inactive scars unchanged for 6M</td>\n",
       "    </tr>\n",
       "    <tr>\n",
       "      <th>113</th>\n",
       "      <td>MCUCXR_0282_1.png</td>\n",
       "      <td>51</td>\n",
       "      <td>Male</td>\n",
       "      <td>inactive TB scars</td>\n",
       "    </tr>\n",
       "    <tr>\n",
       "      <th>114</th>\n",
       "      <td>MCUCXR_0289_1.png</td>\n",
       "      <td>52</td>\n",
       "      <td>Male</td>\n",
       "      <td>RUL cavitary infiltrate; positive smear</td>\n",
       "    </tr>\n",
       "    <tr>\n",
       "      <th>115</th>\n",
       "      <td>MCUCXR_0294_1.png</td>\n",
       "      <td>63</td>\n",
       "      <td>Female</td>\n",
       "      <td>inactive TB scars LUL</td>\n",
       "    </tr>\n",
       "    <tr>\n",
       "      <th>116</th>\n",
       "      <td>MCUCXR_0301_1.png</td>\n",
       "      <td>47</td>\n",
       "      <td>Male</td>\n",
       "      <td>persistent rt pleural peel with some interval ...</td>\n",
       "    </tr>\n",
       "    <tr>\n",
       "      <th>117</th>\n",
       "      <td>MCUCXR_0309_1.png</td>\n",
       "      <td>89</td>\n",
       "      <td>Female</td>\n",
       "      <td>improvements after Rx. Has pleural, pulmonary,...</td>\n",
       "    </tr>\n",
       "    <tr>\n",
       "      <th>118</th>\n",
       "      <td>MCUCXR_0311_1.png</td>\n",
       "      <td>89</td>\n",
       "      <td>Female</td>\n",
       "      <td>on Rx for culture proven TB. has been clearing...</td>\n",
       "    </tr>\n",
       "    <tr>\n",
       "      <th>119</th>\n",
       "      <td>MCUCXR_0313_1.png</td>\n",
       "      <td>15</td>\n",
       "      <td>Male</td>\n",
       "      <td>improvements. LUL cavity has closed.</td>\n",
       "    </tr>\n",
       "    <tr>\n",
       "      <th>120</th>\n",
       "      <td>MCUCXR_0316_1.png</td>\n",
       "      <td>16</td>\n",
       "      <td>Male</td>\n",
       "      <td>improved LUL infiltrate and cavity. Active TB ...</td>\n",
       "    </tr>\n",
       "    <tr>\n",
       "      <th>121</th>\n",
       "      <td>MCUCXR_0331_1.png</td>\n",
       "      <td>47</td>\n",
       "      <td>Male</td>\n",
       "      <td>inactive appearing RUL TB scars</td>\n",
       "    </tr>\n",
       "    <tr>\n",
       "      <th>122</th>\n",
       "      <td>MCUCXR_0334_1.png</td>\n",
       "      <td>24</td>\n",
       "      <td>Male</td>\n",
       "      <td>RUL infiltrate consistent with TB</td>\n",
       "    </tr>\n",
       "    <tr>\n",
       "      <th>123</th>\n",
       "      <td>MCUCXR_0338_1.png</td>\n",
       "      <td>35</td>\n",
       "      <td>Male</td>\n",
       "      <td>LUL inactive scars and some volume loss. h/o t...</td>\n",
       "    </tr>\n",
       "    <tr>\n",
       "      <th>124</th>\n",
       "      <td>MCUCXR_0348_1.png</td>\n",
       "      <td>69</td>\n",
       "      <td>Female</td>\n",
       "      <td>scoliosis to the left with some scarring in LL...</td>\n",
       "    </tr>\n",
       "    <tr>\n",
       "      <th>125</th>\n",
       "      <td>MCUCXR_0350_1.png</td>\n",
       "      <td>36</td>\n",
       "      <td>Male</td>\n",
       "      <td>suspicious active disease</td>\n",
       "    </tr>\n",
       "    <tr>\n",
       "      <th>126</th>\n",
       "      <td>MCUCXR_0352_1.png</td>\n",
       "      <td>25</td>\n",
       "      <td>Female</td>\n",
       "      <td>12x9mm nodule LUL, consistent with large granu...</td>\n",
       "    </tr>\n",
       "    <tr>\n",
       "      <th>127</th>\n",
       "      <td>MCUCXR_0354_1.png</td>\n",
       "      <td>46</td>\n",
       "      <td>Male</td>\n",
       "      <td>bilateral calcified granulomas scars consisten...</td>\n",
       "    </tr>\n",
       "    <tr>\n",
       "      <th>128</th>\n",
       "      <td>MCUCXR_0362_1.png</td>\n",
       "      <td>61</td>\n",
       "      <td>Male</td>\n",
       "      <td>rt pleural effusion with some nodular infiltra...</td>\n",
       "    </tr>\n",
       "    <tr>\n",
       "      <th>129</th>\n",
       "      <td>MCUCXR_0367_1.png</td>\n",
       "      <td>31</td>\n",
       "      <td>Female</td>\n",
       "      <td>cavitary fibronodular infiltrate RUL. typical ...</td>\n",
       "    </tr>\n",
       "    <tr>\n",
       "      <th>130</th>\n",
       "      <td>MCUCXR_0369_1.png</td>\n",
       "      <td>31</td>\n",
       "      <td>Female</td>\n",
       "      <td>cavitary nodular infiltrate in RUL; active TB</td>\n",
       "    </tr>\n",
       "    <tr>\n",
       "      <th>131</th>\n",
       "      <td>MCUCXR_0372_1.png</td>\n",
       "      <td>49</td>\n",
       "      <td>Female</td>\n",
       "      <td>rt pleural effusion some infoltrate likely in ...</td>\n",
       "    </tr>\n",
       "    <tr>\n",
       "      <th>132</th>\n",
       "      <td>MCUCXR_0375_1.png</td>\n",
       "      <td>49</td>\n",
       "      <td>Female</td>\n",
       "      <td>improving rt pleural effusion and the RUL infi...</td>\n",
       "    </tr>\n",
       "    <tr>\n",
       "      <th>133</th>\n",
       "      <td>MCUCXR_0383_1.png</td>\n",
       "      <td>14</td>\n",
       "      <td>Female</td>\n",
       "      <td>calcified granuloma LUL behind 4th rib anterior</td>\n",
       "    </tr>\n",
       "    <tr>\n",
       "      <th>134</th>\n",
       "      <td>MCUCXR_0387_1.png</td>\n",
       "      <td>42</td>\n",
       "      <td>Male</td>\n",
       "      <td>inactive scars RUL</td>\n",
       "    </tr>\n",
       "    <tr>\n",
       "      <th>135</th>\n",
       "      <td>MCUCXR_0390_1.png</td>\n",
       "      <td>52</td>\n",
       "      <td>Male</td>\n",
       "      <td>Rt apical scarring. LUL scars and some infiltr...</td>\n",
       "    </tr>\n",
       "    <tr>\n",
       "      <th>136</th>\n",
       "      <td>MCUCXR_0393_1.png</td>\n",
       "      <td>30</td>\n",
       "      <td>Female</td>\n",
       "      <td>left pleural effusion; best seen on lateral vi...</td>\n",
       "    </tr>\n",
       "    <tr>\n",
       "      <th>137</th>\n",
       "      <td>MCUCXR_0399_1.png</td>\n",
       "      <td>63</td>\n",
       "      <td>Female</td>\n",
       "      <td>large infiltrate RUL with cavitation plus infi...</td>\n",
       "    </tr>\n",
       "  </tbody>\n",
       "</table>\n",
       "</div>"
      ]
     },
     "execution_count": 12,
     "metadata": {},
     "output_type": "execute_result"
    }
   ],
   "execution_count": 12
  },
  {
   "metadata": {
    "ExecuteTime": {
     "end_time": "2025-08-08T00:55:30.186097Z",
     "start_time": "2025-08-08T00:55:30.166982Z"
    }
   },
   "cell_type": "code",
   "source": [
    "df_montgomery.loc[df_montgomery['findings'] == 'normal', 'label'] = 0\n",
    "df_montgomery"
   ],
   "id": "f063844e443aca6f",
   "outputs": [
    {
     "data": {
      "text/plain": [
       "              study_id  age  gender  \\\n",
       "0    MCUCXR_0001_0.png   27  Female   \n",
       "1    MCUCXR_0002_0.png   40  Female   \n",
       "2    MCUCXR_0003_0.png   21  Female   \n",
       "3    MCUCXR_0004_0.png   11  Female   \n",
       "4    MCUCXR_0005_0.png   33    Male   \n",
       "..                 ...  ...     ...   \n",
       "133  MCUCXR_0383_1.png   14  Female   \n",
       "134  MCUCXR_0387_1.png   42    Male   \n",
       "135  MCUCXR_0390_1.png   52    Male   \n",
       "136  MCUCXR_0393_1.png   30  Female   \n",
       "137  MCUCXR_0399_1.png   63  Female   \n",
       "\n",
       "                                              findings  label  \n",
       "0                                               normal    0.0  \n",
       "1                                               normal    0.0  \n",
       "2                                               normal    0.0  \n",
       "3                                               normal    0.0  \n",
       "4                                               normal    0.0  \n",
       "..                                                 ...    ...  \n",
       "133    calcified granuloma LUL behind 4th rib anterior    NaN  \n",
       "134                                 inactive scars RUL    NaN  \n",
       "135  Rt apical scarring. LUL scars and some infiltr...    NaN  \n",
       "136  left pleural effusion; best seen on lateral vi...    NaN  \n",
       "137  large infiltrate RUL with cavitation plus infi...    NaN  \n",
       "\n",
       "[138 rows x 5 columns]"
      ],
      "text/html": [
       "<div>\n",
       "<style scoped>\n",
       "    .dataframe tbody tr th:only-of-type {\n",
       "        vertical-align: middle;\n",
       "    }\n",
       "\n",
       "    .dataframe tbody tr th {\n",
       "        vertical-align: top;\n",
       "    }\n",
       "\n",
       "    .dataframe thead th {\n",
       "        text-align: right;\n",
       "    }\n",
       "</style>\n",
       "<table border=\"1\" class=\"dataframe\">\n",
       "  <thead>\n",
       "    <tr style=\"text-align: right;\">\n",
       "      <th></th>\n",
       "      <th>study_id</th>\n",
       "      <th>age</th>\n",
       "      <th>gender</th>\n",
       "      <th>findings</th>\n",
       "      <th>label</th>\n",
       "    </tr>\n",
       "  </thead>\n",
       "  <tbody>\n",
       "    <tr>\n",
       "      <th>0</th>\n",
       "      <td>MCUCXR_0001_0.png</td>\n",
       "      <td>27</td>\n",
       "      <td>Female</td>\n",
       "      <td>normal</td>\n",
       "      <td>0.0</td>\n",
       "    </tr>\n",
       "    <tr>\n",
       "      <th>1</th>\n",
       "      <td>MCUCXR_0002_0.png</td>\n",
       "      <td>40</td>\n",
       "      <td>Female</td>\n",
       "      <td>normal</td>\n",
       "      <td>0.0</td>\n",
       "    </tr>\n",
       "    <tr>\n",
       "      <th>2</th>\n",
       "      <td>MCUCXR_0003_0.png</td>\n",
       "      <td>21</td>\n",
       "      <td>Female</td>\n",
       "      <td>normal</td>\n",
       "      <td>0.0</td>\n",
       "    </tr>\n",
       "    <tr>\n",
       "      <th>3</th>\n",
       "      <td>MCUCXR_0004_0.png</td>\n",
       "      <td>11</td>\n",
       "      <td>Female</td>\n",
       "      <td>normal</td>\n",
       "      <td>0.0</td>\n",
       "    </tr>\n",
       "    <tr>\n",
       "      <th>4</th>\n",
       "      <td>MCUCXR_0005_0.png</td>\n",
       "      <td>33</td>\n",
       "      <td>Male</td>\n",
       "      <td>normal</td>\n",
       "      <td>0.0</td>\n",
       "    </tr>\n",
       "    <tr>\n",
       "      <th>...</th>\n",
       "      <td>...</td>\n",
       "      <td>...</td>\n",
       "      <td>...</td>\n",
       "      <td>...</td>\n",
       "      <td>...</td>\n",
       "    </tr>\n",
       "    <tr>\n",
       "      <th>133</th>\n",
       "      <td>MCUCXR_0383_1.png</td>\n",
       "      <td>14</td>\n",
       "      <td>Female</td>\n",
       "      <td>calcified granuloma LUL behind 4th rib anterior</td>\n",
       "      <td>NaN</td>\n",
       "    </tr>\n",
       "    <tr>\n",
       "      <th>134</th>\n",
       "      <td>MCUCXR_0387_1.png</td>\n",
       "      <td>42</td>\n",
       "      <td>Male</td>\n",
       "      <td>inactive scars RUL</td>\n",
       "      <td>NaN</td>\n",
       "    </tr>\n",
       "    <tr>\n",
       "      <th>135</th>\n",
       "      <td>MCUCXR_0390_1.png</td>\n",
       "      <td>52</td>\n",
       "      <td>Male</td>\n",
       "      <td>Rt apical scarring. LUL scars and some infiltr...</td>\n",
       "      <td>NaN</td>\n",
       "    </tr>\n",
       "    <tr>\n",
       "      <th>136</th>\n",
       "      <td>MCUCXR_0393_1.png</td>\n",
       "      <td>30</td>\n",
       "      <td>Female</td>\n",
       "      <td>left pleural effusion; best seen on lateral vi...</td>\n",
       "      <td>NaN</td>\n",
       "    </tr>\n",
       "    <tr>\n",
       "      <th>137</th>\n",
       "      <td>MCUCXR_0399_1.png</td>\n",
       "      <td>63</td>\n",
       "      <td>Female</td>\n",
       "      <td>large infiltrate RUL with cavitation plus infi...</td>\n",
       "      <td>NaN</td>\n",
       "    </tr>\n",
       "  </tbody>\n",
       "</table>\n",
       "<p>138 rows × 5 columns</p>\n",
       "</div>"
      ]
     },
     "execution_count": 14,
     "metadata": {},
     "output_type": "execute_result"
    }
   ],
   "execution_count": 14
  },
  {
   "metadata": {
    "ExecuteTime": {
     "end_time": "2025-08-08T00:56:34.679135Z",
     "start_time": "2025-08-08T00:56:34.656001Z"
    }
   },
   "cell_type": "code",
   "source": [
    "df_montgomery.loc[df_montgomery['findings'] != 'normal', 'label'] = 1\n",
    "df_montgomery"
   ],
   "id": "2715d853c31cf177",
   "outputs": [
    {
     "data": {
      "text/plain": [
       "              study_id  age  gender  \\\n",
       "0    MCUCXR_0001_0.png   27  Female   \n",
       "1    MCUCXR_0002_0.png   40  Female   \n",
       "2    MCUCXR_0003_0.png   21  Female   \n",
       "3    MCUCXR_0004_0.png   11  Female   \n",
       "4    MCUCXR_0005_0.png   33    Male   \n",
       "..                 ...  ...     ...   \n",
       "133  MCUCXR_0383_1.png   14  Female   \n",
       "134  MCUCXR_0387_1.png   42    Male   \n",
       "135  MCUCXR_0390_1.png   52    Male   \n",
       "136  MCUCXR_0393_1.png   30  Female   \n",
       "137  MCUCXR_0399_1.png   63  Female   \n",
       "\n",
       "                                              findings  label  \n",
       "0                                               normal    0.0  \n",
       "1                                               normal    0.0  \n",
       "2                                               normal    0.0  \n",
       "3                                               normal    0.0  \n",
       "4                                               normal    0.0  \n",
       "..                                                 ...    ...  \n",
       "133    calcified granuloma LUL behind 4th rib anterior    1.0  \n",
       "134                                 inactive scars RUL    1.0  \n",
       "135  Rt apical scarring. LUL scars and some infiltr...    1.0  \n",
       "136  left pleural effusion; best seen on lateral vi...    1.0  \n",
       "137  large infiltrate RUL with cavitation plus infi...    1.0  \n",
       "\n",
       "[138 rows x 5 columns]"
      ],
      "text/html": [
       "<div>\n",
       "<style scoped>\n",
       "    .dataframe tbody tr th:only-of-type {\n",
       "        vertical-align: middle;\n",
       "    }\n",
       "\n",
       "    .dataframe tbody tr th {\n",
       "        vertical-align: top;\n",
       "    }\n",
       "\n",
       "    .dataframe thead th {\n",
       "        text-align: right;\n",
       "    }\n",
       "</style>\n",
       "<table border=\"1\" class=\"dataframe\">\n",
       "  <thead>\n",
       "    <tr style=\"text-align: right;\">\n",
       "      <th></th>\n",
       "      <th>study_id</th>\n",
       "      <th>age</th>\n",
       "      <th>gender</th>\n",
       "      <th>findings</th>\n",
       "      <th>label</th>\n",
       "    </tr>\n",
       "  </thead>\n",
       "  <tbody>\n",
       "    <tr>\n",
       "      <th>0</th>\n",
       "      <td>MCUCXR_0001_0.png</td>\n",
       "      <td>27</td>\n",
       "      <td>Female</td>\n",
       "      <td>normal</td>\n",
       "      <td>0.0</td>\n",
       "    </tr>\n",
       "    <tr>\n",
       "      <th>1</th>\n",
       "      <td>MCUCXR_0002_0.png</td>\n",
       "      <td>40</td>\n",
       "      <td>Female</td>\n",
       "      <td>normal</td>\n",
       "      <td>0.0</td>\n",
       "    </tr>\n",
       "    <tr>\n",
       "      <th>2</th>\n",
       "      <td>MCUCXR_0003_0.png</td>\n",
       "      <td>21</td>\n",
       "      <td>Female</td>\n",
       "      <td>normal</td>\n",
       "      <td>0.0</td>\n",
       "    </tr>\n",
       "    <tr>\n",
       "      <th>3</th>\n",
       "      <td>MCUCXR_0004_0.png</td>\n",
       "      <td>11</td>\n",
       "      <td>Female</td>\n",
       "      <td>normal</td>\n",
       "      <td>0.0</td>\n",
       "    </tr>\n",
       "    <tr>\n",
       "      <th>4</th>\n",
       "      <td>MCUCXR_0005_0.png</td>\n",
       "      <td>33</td>\n",
       "      <td>Male</td>\n",
       "      <td>normal</td>\n",
       "      <td>0.0</td>\n",
       "    </tr>\n",
       "    <tr>\n",
       "      <th>...</th>\n",
       "      <td>...</td>\n",
       "      <td>...</td>\n",
       "      <td>...</td>\n",
       "      <td>...</td>\n",
       "      <td>...</td>\n",
       "    </tr>\n",
       "    <tr>\n",
       "      <th>133</th>\n",
       "      <td>MCUCXR_0383_1.png</td>\n",
       "      <td>14</td>\n",
       "      <td>Female</td>\n",
       "      <td>calcified granuloma LUL behind 4th rib anterior</td>\n",
       "      <td>1.0</td>\n",
       "    </tr>\n",
       "    <tr>\n",
       "      <th>134</th>\n",
       "      <td>MCUCXR_0387_1.png</td>\n",
       "      <td>42</td>\n",
       "      <td>Male</td>\n",
       "      <td>inactive scars RUL</td>\n",
       "      <td>1.0</td>\n",
       "    </tr>\n",
       "    <tr>\n",
       "      <th>135</th>\n",
       "      <td>MCUCXR_0390_1.png</td>\n",
       "      <td>52</td>\n",
       "      <td>Male</td>\n",
       "      <td>Rt apical scarring. LUL scars and some infiltr...</td>\n",
       "      <td>1.0</td>\n",
       "    </tr>\n",
       "    <tr>\n",
       "      <th>136</th>\n",
       "      <td>MCUCXR_0393_1.png</td>\n",
       "      <td>30</td>\n",
       "      <td>Female</td>\n",
       "      <td>left pleural effusion; best seen on lateral vi...</td>\n",
       "      <td>1.0</td>\n",
       "    </tr>\n",
       "    <tr>\n",
       "      <th>137</th>\n",
       "      <td>MCUCXR_0399_1.png</td>\n",
       "      <td>63</td>\n",
       "      <td>Female</td>\n",
       "      <td>large infiltrate RUL with cavitation plus infi...</td>\n",
       "      <td>1.0</td>\n",
       "    </tr>\n",
       "  </tbody>\n",
       "</table>\n",
       "<p>138 rows × 5 columns</p>\n",
       "</div>"
      ]
     },
     "execution_count": 15,
     "metadata": {},
     "output_type": "execute_result"
    }
   ],
   "execution_count": 15
  },
  {
   "metadata": {
    "ExecuteTime": {
     "end_time": "2025-08-08T00:58:05.968769Z",
     "start_time": "2025-08-08T00:58:05.940444Z"
    }
   },
   "cell_type": "code",
   "source": [
    "df_montgomery['predicao'] = 0\n",
    "df_montgomery"
   ],
   "id": "299c146c036cfc1c",
   "outputs": [
    {
     "data": {
      "text/plain": [
       "              study_id  age  gender  \\\n",
       "0    MCUCXR_0001_0.png   27  Female   \n",
       "1    MCUCXR_0002_0.png   40  Female   \n",
       "2    MCUCXR_0003_0.png   21  Female   \n",
       "3    MCUCXR_0004_0.png   11  Female   \n",
       "4    MCUCXR_0005_0.png   33    Male   \n",
       "..                 ...  ...     ...   \n",
       "133  MCUCXR_0383_1.png   14  Female   \n",
       "134  MCUCXR_0387_1.png   42    Male   \n",
       "135  MCUCXR_0390_1.png   52    Male   \n",
       "136  MCUCXR_0393_1.png   30  Female   \n",
       "137  MCUCXR_0399_1.png   63  Female   \n",
       "\n",
       "                                              findings  label  predicao  \n",
       "0                                               normal    0.0         0  \n",
       "1                                               normal    0.0         0  \n",
       "2                                               normal    0.0         0  \n",
       "3                                               normal    0.0         0  \n",
       "4                                               normal    0.0         0  \n",
       "..                                                 ...    ...       ...  \n",
       "133    calcified granuloma LUL behind 4th rib anterior    1.0         0  \n",
       "134                                 inactive scars RUL    1.0         0  \n",
       "135  Rt apical scarring. LUL scars and some infiltr...    1.0         0  \n",
       "136  left pleural effusion; best seen on lateral vi...    1.0         0  \n",
       "137  large infiltrate RUL with cavitation plus infi...    1.0         0  \n",
       "\n",
       "[138 rows x 6 columns]"
      ],
      "text/html": [
       "<div>\n",
       "<style scoped>\n",
       "    .dataframe tbody tr th:only-of-type {\n",
       "        vertical-align: middle;\n",
       "    }\n",
       "\n",
       "    .dataframe tbody tr th {\n",
       "        vertical-align: top;\n",
       "    }\n",
       "\n",
       "    .dataframe thead th {\n",
       "        text-align: right;\n",
       "    }\n",
       "</style>\n",
       "<table border=\"1\" class=\"dataframe\">\n",
       "  <thead>\n",
       "    <tr style=\"text-align: right;\">\n",
       "      <th></th>\n",
       "      <th>study_id</th>\n",
       "      <th>age</th>\n",
       "      <th>gender</th>\n",
       "      <th>findings</th>\n",
       "      <th>label</th>\n",
       "      <th>predicao</th>\n",
       "    </tr>\n",
       "  </thead>\n",
       "  <tbody>\n",
       "    <tr>\n",
       "      <th>0</th>\n",
       "      <td>MCUCXR_0001_0.png</td>\n",
       "      <td>27</td>\n",
       "      <td>Female</td>\n",
       "      <td>normal</td>\n",
       "      <td>0.0</td>\n",
       "      <td>0</td>\n",
       "    </tr>\n",
       "    <tr>\n",
       "      <th>1</th>\n",
       "      <td>MCUCXR_0002_0.png</td>\n",
       "      <td>40</td>\n",
       "      <td>Female</td>\n",
       "      <td>normal</td>\n",
       "      <td>0.0</td>\n",
       "      <td>0</td>\n",
       "    </tr>\n",
       "    <tr>\n",
       "      <th>2</th>\n",
       "      <td>MCUCXR_0003_0.png</td>\n",
       "      <td>21</td>\n",
       "      <td>Female</td>\n",
       "      <td>normal</td>\n",
       "      <td>0.0</td>\n",
       "      <td>0</td>\n",
       "    </tr>\n",
       "    <tr>\n",
       "      <th>3</th>\n",
       "      <td>MCUCXR_0004_0.png</td>\n",
       "      <td>11</td>\n",
       "      <td>Female</td>\n",
       "      <td>normal</td>\n",
       "      <td>0.0</td>\n",
       "      <td>0</td>\n",
       "    </tr>\n",
       "    <tr>\n",
       "      <th>4</th>\n",
       "      <td>MCUCXR_0005_0.png</td>\n",
       "      <td>33</td>\n",
       "      <td>Male</td>\n",
       "      <td>normal</td>\n",
       "      <td>0.0</td>\n",
       "      <td>0</td>\n",
       "    </tr>\n",
       "    <tr>\n",
       "      <th>...</th>\n",
       "      <td>...</td>\n",
       "      <td>...</td>\n",
       "      <td>...</td>\n",
       "      <td>...</td>\n",
       "      <td>...</td>\n",
       "      <td>...</td>\n",
       "    </tr>\n",
       "    <tr>\n",
       "      <th>133</th>\n",
       "      <td>MCUCXR_0383_1.png</td>\n",
       "      <td>14</td>\n",
       "      <td>Female</td>\n",
       "      <td>calcified granuloma LUL behind 4th rib anterior</td>\n",
       "      <td>1.0</td>\n",
       "      <td>0</td>\n",
       "    </tr>\n",
       "    <tr>\n",
       "      <th>134</th>\n",
       "      <td>MCUCXR_0387_1.png</td>\n",
       "      <td>42</td>\n",
       "      <td>Male</td>\n",
       "      <td>inactive scars RUL</td>\n",
       "      <td>1.0</td>\n",
       "      <td>0</td>\n",
       "    </tr>\n",
       "    <tr>\n",
       "      <th>135</th>\n",
       "      <td>MCUCXR_0390_1.png</td>\n",
       "      <td>52</td>\n",
       "      <td>Male</td>\n",
       "      <td>Rt apical scarring. LUL scars and some infiltr...</td>\n",
       "      <td>1.0</td>\n",
       "      <td>0</td>\n",
       "    </tr>\n",
       "    <tr>\n",
       "      <th>136</th>\n",
       "      <td>MCUCXR_0393_1.png</td>\n",
       "      <td>30</td>\n",
       "      <td>Female</td>\n",
       "      <td>left pleural effusion; best seen on lateral vi...</td>\n",
       "      <td>1.0</td>\n",
       "      <td>0</td>\n",
       "    </tr>\n",
       "    <tr>\n",
       "      <th>137</th>\n",
       "      <td>MCUCXR_0399_1.png</td>\n",
       "      <td>63</td>\n",
       "      <td>Female</td>\n",
       "      <td>large infiltrate RUL with cavitation plus infi...</td>\n",
       "      <td>1.0</td>\n",
       "      <td>0</td>\n",
       "    </tr>\n",
       "  </tbody>\n",
       "</table>\n",
       "<p>138 rows × 6 columns</p>\n",
       "</div>"
      ]
     },
     "execution_count": 16,
     "metadata": {},
     "output_type": "execute_result"
    }
   ],
   "execution_count": 16
  },
  {
   "metadata": {
    "ExecuteTime": {
     "end_time": "2025-08-08T00:59:36.265362Z",
     "start_time": "2025-08-08T00:59:36.058154Z"
    }
   },
   "cell_type": "code",
   "source": "df_montgomery['age'].plot()",
   "id": "d611ba84a585c95c",
   "outputs": [
    {
     "data": {
      "text/plain": [
       "<Axes: >"
      ]
     },
     "execution_count": 17,
     "metadata": {},
     "output_type": "execute_result"
    },
    {
     "data": {
      "text/plain": [
       "<Figure size 640x480 with 1 Axes>"
      ],
      "image/png": "[encoded data removed]"
     },
     "metadata": {},
     "output_type": "display_data"
    }
   ],
   "execution_count": 17
  },
  {
   "metadata": {
    "ExecuteTime": {
     "end_time": "2025-08-08T01:00:11.592909Z",
     "start_time": "2025-08-08T01:00:11.403983Z"
    }
   },
   "cell_type": "code",
   "source": "df_montgomery['age'].hist()",
   "id": "696b5ae8d35dedbf",
   "outputs": [
    {
     "data": {
      "text/plain": [
       "<Axes: >"
      ]
     },
     "execution_count": 18,
     "metadata": {},
     "output_type": "execute_result"
    },
    {
     "data": {
      "text/plain": [
       "<Figure size 640x480 with 1 Axes>"
      ],
      "image/png": "[encoded data removed]"
     },
     "metadata": {},
     "output_type": "display_data"
    }
   ],
   "execution_count": 18
  },
  {
   "metadata": {
    "ExecuteTime": {
     "end_time": "2025-08-08T01:01:03.052167Z",
     "start_time": "2025-08-08T01:01:02.923531Z"
    }
   },
   "cell_type": "code",
   "source": "df_montgomery['age'].plot(kind='box')",
   "id": "b6d0e9b65fff5a01",
   "outputs": [
    {
     "data": {
      "text/plain": [
       "<Axes: >"
      ]
     },
     "execution_count": 19,
     "metadata": {},
     "output_type": "execute_result"
    },
    {
     "data": {
      "text/plain": [
       "<Figure size 640x480 with 1 Axes>"
      ],
      "image/png": "[encoded data removed]"
     },
     "metadata": {},
     "output_type": "display_data"
    }
   ],
   "execution_count": 19
  },
  {
   "metadata": {
    "ExecuteTime": {
     "end_time": "2025-08-08T01:04:00.621780Z",
     "start_time": "2025-08-08T01:03:59.353331Z"
    }
   },
   "cell_type": "code",
   "source": "df_montgomery.plot.scatter(x='study_id', y='age')",
   "id": "33aaa8e15894c6ce",
   "outputs": [
    {
     "name": "stderr",
     "output_type": "stream",
     "text": [
      "D:\\Anaconda3\\lib\\site-packages\\pandas\\plotting\\_matplotlib\\core.py:1010: UserWarning: No data for colormapping provided via 'c'. Parameters 'cmap' will be ignored\n",
      "  scatter = ax.scatter(\n"
     ]
    },
    {
     "data": {
      "text/plain": [
       "<Axes: xlabel='study_id', ylabel='age'>"
      ]
     },
     "execution_count": 24,
     "metadata": {},
     "output_type": "execute_result"
    },
    {
     "data": {
      "text/plain": [
       "<Figure size 640x480 with 1 Axes>"
      ],
      "image/png": "[encoded data removed]"
     },
     "metadata": {},
     "output_type": "display_data"
    }
   ],
   "execution_count": 24
  },
  {
   "metadata": {
    "ExecuteTime": {
     "end_time": "2025-08-08T01:04:23.606451Z",
     "start_time": "2025-08-08T01:04:23.589207Z"
    }
   },
   "cell_type": "code",
   "source": "df_montgomery.corr()",
   "id": "1d96d95e567aa86d",
   "outputs": [
    {
     "data": {
      "text/plain": [
       "              age    label  predicao\n",
       "age       1.00000  0.36518       NaN\n",
       "label     0.36518  1.00000       NaN\n",
       "predicao      NaN      NaN       NaN"
      ],
      "text/html": [
       "<div>\n",
       "<style scoped>\n",
       "    .dataframe tbody tr th:only-of-type {\n",
       "        vertical-align: middle;\n",
       "    }\n",
       "\n",
       "    .dataframe tbody tr th {\n",
       "        vertical-align: top;\n",
       "    }\n",
       "\n",
       "    .dataframe thead th {\n",
       "        text-align: right;\n",
       "    }\n",
       "</style>\n",
       "<table border=\"1\" class=\"dataframe\">\n",
       "  <thead>\n",
       "    <tr style=\"text-align: right;\">\n",
       "      <th></th>\n",
       "      <th>age</th>\n",
       "      <th>label</th>\n",
       "      <th>predicao</th>\n",
       "    </tr>\n",
       "  </thead>\n",
       "  <tbody>\n",
       "    <tr>\n",
       "      <th>age</th>\n",
       "      <td>1.00000</td>\n",
       "      <td>0.36518</td>\n",
       "      <td>NaN</td>\n",
       "    </tr>\n",
       "    <tr>\n",
       "      <th>label</th>\n",
       "      <td>0.36518</td>\n",
       "      <td>1.00000</td>\n",
       "      <td>NaN</td>\n",
       "    </tr>\n",
       "    <tr>\n",
       "      <th>predicao</th>\n",
       "      <td>NaN</td>\n",
       "      <td>NaN</td>\n",
       "      <td>NaN</td>\n",
       "    </tr>\n",
       "  </tbody>\n",
       "</table>\n",
       "</div>"
      ]
     },
     "execution_count": 25,
     "metadata": {},
     "output_type": "execute_result"
    }
   ],
   "execution_count": 25
  }
 ],
 "metadata": {
  "kernelspec": {
   "display_name": "Python 3",
   "language": "python",
   "name": "python3"
  },
  "language_info": {
   "codemirror_mode": {
    "name": "ipython",
    "version": 2
   },
   "file_extension": ".py",
   "mimetype": "text/x-python",
   "name": "python",
   "nbconvert_exporter": "python",
   "pygments_lexer": "ipython2",
   "version": "2.7.6"
  }
 },
 "nbformat": 4,
 "nbformat_minor": 5
}
